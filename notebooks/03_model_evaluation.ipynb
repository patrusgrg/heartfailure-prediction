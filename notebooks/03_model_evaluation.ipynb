{
 "cells": [
  {
   "cell_type": "code",
   "execution_count": null,
   "id": "0d39eea2",
   "metadata": {},
   "outputs": [],
   "source": [
    "import joblib\n",
    "import pandas as pd\n",
    "from sklearn.metrics import classification_report\n",
    "\n",
    "# Load model and scaler\n",
    "model = joblib.load('models/heart_failure_model.pkl')\n",
    "scaler = joblib.load('models/scaler.pkl')\n",
    "\n",
    "# Load test data\n",
    "df = pd.read_csv('data/cleaned_heart_failure.csv')\n",
    "X = df.drop('DEATH_EVENT', axis=1)\n",
    "y = df['DEATH_EVENT']\n",
    "\n",
    "# Scale features\n",
    "X_scaled = scaler.transform(X)\n",
    "\n",
    "# Predict\n",
    "y_pred = model.predict(X_scaled)\n",
    "\n",
    "# Evaluate\n",
    "print(classification_report(y, y_pred))\n"
   ]
  }
 ],
 "metadata": {
  "language_info": {
   "name": "python"
  }
 },
 "nbformat": 4,
 "nbformat_minor": 5
}
