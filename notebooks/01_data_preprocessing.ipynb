{
 "cells": [
  {
   "cell_type": "code",
   "execution_count": null,
   "id": "c7697fc2",
   "metadata": {
    "vscode": {
     "languageId": "plaintext"
    }
   },
   "outputs": [],
   "source": [
    "import pandas as pd\n",
    "\n",
    "# Load dataset\n",
    "df = pd.read_csv('data/heart_failure_clinical_records_dataset.csv')\n",
    "\n",
    "# Display first few rows\n",
    "df.head()\n",
    "\n",
    "# Check for missing values\n",
    "df.isnull().sum()\n",
    "\n",
    "# Drop any rows with missing values\n",
    "df.dropna(inplace=True)\n",
    "\n",
    "# Encode categorical variables if necessary\n",
    "# For example, if 'sex' is categorical, we can encode it:\n",
    "# df['sex'] = df['sex'].map({'M': 0, 'F': 1})\n",
    "\n",
    "# Save the cleaned dataset\n",
    "df.to_csv('data/cleaned_heart_failure.csv', index=False)\n"
   ]
  }
 ],
 "metadata": {
  "language_info": {
   "name": "python"
  }
 },
 "nbformat": 4,
 "nbformat_minor": 5
}
